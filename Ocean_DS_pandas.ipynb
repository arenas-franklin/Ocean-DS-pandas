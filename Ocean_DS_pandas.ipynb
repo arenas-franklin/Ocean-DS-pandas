{
  "nbformat": 4,
  "nbformat_minor": 0,
  "metadata": {
    "colab": {
      "name": "Ocean-DS-pandas.ipynb",
      "provenance": [],
      "authorship_tag": "ABX9TyP42E7uKCIbpr9iZcOgeY4/",
      "include_colab_link": true
    },
    "kernelspec": {
      "name": "python3",
      "display_name": "Python 3"
    }
  },
  "cells": [
    {
      "cell_type": "markdown",
      "metadata": {
        "id": "view-in-github",
        "colab_type": "text"
      },
      "source": [
        "<a href=\"https://colab.research.google.com/github/arenas-franklin/Ocean-DS-pandas/blob/main/Ocean_DS_pandas.ipynb\" target=\"_parent\"><img src=\"https://colab.research.google.com/assets/colab-badge.svg\" alt=\"Open In Colab\"/></a>"
      ]
    },
    {
      "cell_type": "markdown",
      "metadata": {
        "id": "scJd4Mj9wsnb"
      },
      "source": [
        "# Aula de Pandas "
      ]
    },
    {
      "cell_type": "code",
      "metadata": {
        "id": "2Td1ND3WwyXD"
      },
      "source": [
        ""
      ],
      "execution_count": null,
      "outputs": []
    }
  ]
}