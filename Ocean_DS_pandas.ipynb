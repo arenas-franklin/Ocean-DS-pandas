{
  "nbformat": 4,
  "nbformat_minor": 0,
  "metadata": {
    "colab": {
      "name": "Ocean-DS-pandas.ipynb",
      "provenance": [],
      "authorship_tag": "ABX9TyPRbcDXmy7klSxX0ZgJetlU",
      "include_colab_link": true
    },
    "kernelspec": {
      "name": "python3",
      "display_name": "Python 3"
    }
  },
  "cells": [
    {
      "cell_type": "markdown",
      "metadata": {
        "id": "view-in-github",
        "colab_type": "text"
      },
      "source": [
        "<a href=\"https://colab.research.google.com/github/arenas-franklin/Ocean-DS-pandas/blob/main/Ocean_DS_pandas.ipynb\" target=\"_parent\"><img src=\"https://colab.research.google.com/assets/colab-badge.svg\" alt=\"Open In Colab\"/></a>"
      ]
    },
    {
      "cell_type": "markdown",
      "metadata": {
        "id": "scJd4Mj9wsnb"
      },
      "source": [
        "# Aula de Pandas "
      ]
    },
    {
      "cell_type": "code",
      "metadata": {
        "id": "2Td1ND3WwyXD"
      },
      "source": [
        "import pandas as pd"
      ],
      "execution_count": 1,
      "outputs": []
    },
    {
      "cell_type": "code",
      "metadata": {
        "colab": {
          "base_uri": "https://localhost:8080/"
        },
        "id": "t9i_3CrVzEsS",
        "outputId": "c6933d8b-0daf-4ef9-f880-d7428b7563f9"
      },
      "source": [
        "# Lista\r\n",
        "\r\n",
        "lista = [10, 20, 30, 40, 50]\r\n",
        "\r\n",
        "print(lista)\r\n",
        "print(type(lista))\r\n",
        "print(\"Primeiro elemento: \", lista[0])\r\n",
        "\r\n",
        "# Series -> Lista \r\n",
        "\r\n",
        "series_numerica = pd.Series(lista)\r\n",
        "\r\n",
        "print(series_numerica)\r\n",
        "print(type(series_numerica))\r\n",
        "print(\"Primeiro elemento da series:\", series_numerica[0])\r\n",
        "print(\"Segundo elemento da series:\", series_numerica[1])"
      ],
      "execution_count": 4,
      "outputs": [
        {
          "output_type": "stream",
          "text": [
            "[10, 20, 30, 40, 50]\n",
            "<class 'list'>\n",
            "Primeiro elemento:  10\n",
            "0    10\n",
            "1    20\n",
            "2    30\n",
            "3    40\n",
            "4    50\n",
            "dtype: int64\n",
            "<class 'pandas.core.series.Series'>\n",
            "Primeiro elemento da series: 10\n",
            "Segundo elemento da series: 20\n"
          ],
          "name": "stdout"
        }
      ]
    },
    {
      "cell_type": "code",
      "metadata": {
        "colab": {
          "base_uri": "https://localhost:8080/"
        },
        "id": "TGl5Z9Ux0I26",
        "outputId": "c0b9b034-83db-49fb-8e1b-dd08ec43d11e"
      },
      "source": [
        "# Criando uma series com o mesmo valor varias vezes\r\n",
        "pd.Series(9.7, range(10))"
      ],
      "execution_count": 5,
      "outputs": [
        {
          "output_type": "execute_result",
          "data": {
            "text/plain": [
              "0    9.7\n",
              "1    9.7\n",
              "2    9.7\n",
              "3    9.7\n",
              "4    9.7\n",
              "5    9.7\n",
              "6    9.7\n",
              "7    9.7\n",
              "8    9.7\n",
              "9    9.7\n",
              "dtype: float64"
            ]
          },
          "metadata": {
            "tags": []
          },
          "execution_count": 5
        }
      ]
    },
    {
      "cell_type": "code",
      "metadata": {
        "id": "4ZCVDtcR1vHm"
      },
      "source": [
        ""
      ],
      "execution_count": null,
      "outputs": []
    }
  ]
}